{
 "cells": [
  {
   "cell_type": "code",
   "execution_count": 52,
   "metadata": {},
   "outputs": [
    {
     "name": "stdout",
     "output_type": "stream",
     "text": [
      " O volume na unidade C é Acer\n",
      " O Número de Série do Volume é 5620-EA58\n",
      "\n",
      " Pasta de C:\\Users\n",
      "\n",
      "28/04/2018  17:00    <DIR>          .\n",
      "28/04/2018  17:00    <DIR>          ..\n",
      "09/04/2018  02:21    <DIR>          defaultuser0\n",
      "28/04/2018  09:38    <DIR>          João Gabriel\n",
      "09/04/2018  01:59    <DIR>          Public\n",
      "07/05/2018  16:11    <DIR>          trab\n",
      "               0 arquivo(s)              0 bytes\n",
      "               6 pasta(s)   903.820.468.224 bytes disponíveis\n"
     ]
    }
   ],
   "source": [
    "ls"
   ]
  },
  {
   "cell_type": "code",
   "execution_count": 41,
   "metadata": {},
   "outputs": [],
   "source": [
    "#importando os pacotes nescessarios\n",
    "import numpy as np\n",
    "import glob\n",
    "from astropy.io import fits\n",
    "# definindo o endereco x onde se encontram sua pasta, no caso xo2b, em que dentro dela havera as pastas bias,science e flat\n",
    "x = './trab/desktop/xo2b'\n",
    "# funcao bias que retorna o masterbias dos bias da pasta\n",
    "def bias(y):\n",
    "    '''\n",
    "    This function recives a y variable that if == 1, it creates a fits file at the x adress. The fits is a masterbias of the paste bias.\n",
    "    If y is diferent from 1, it returns only an array of the masterbias.\n",
    "    '''\n",
    "    #criando uma lista em que cada elemento fica como uma string do endereco de cada bias\n",
    "    a = glob.glob(x+\"/bias/*.fits\")\n",
    "    masterbias = []\n",
    "    # laco for que ira jogar dentro da lista vazia masterbias os arrays de cada bias\n",
    "    for i in range(len(a)):\n",
    "        # usando o fits.getdata para retirar uma array de cada imagem bias\n",
    "        img = fits.getdata(a[i])\n",
    "        # transformando os elementos da array em float64\n",
    "        img = img.astype(np.float64)\n",
    "        # jogando essa array dentro da lista masterbias\n",
    "        masterbias.append(img)\n",
    "    # teste estatistico que mostra se o masterbias esta com uma media razoavel, menor que 20, ou nao.\n",
    "    if np.mean(np.median(masterbias,axis=0)) > 20:\n",
    "        return \"Error: The masterbias mean is too higher(the mean is higher then 20)\"\n",
    "    # verificando a variavel y para retornar uma array da mediana da lista masterbias, caso y == 1 \n",
    "    if y == 1:\n",
    "        return np.median(masterbias,axis=0)\n",
    "    # caso contrario, ele cria uma imagem fits masterbias no endereco x definido anteriormente\n",
    "    else:\n",
    "        outfile = x + '/master_bias.fits'\n",
    "        hdu = fits.PrimaryHDU() #criando o HDU \n",
    "        hdu.data = np.median(masterbias,axis=0)\n",
    "        hdu.writeto(outfile)"
   ]
  },
  {
   "cell_type": "code",
   "execution_count": 30,
   "metadata": {},
   "outputs": [
    {
     "name": "stdout",
     "output_type": "stream",
     "text": [
      "Help on function bias in module __main__:\n",
      "\n",
      "bias(y)\n",
      "    This function recives a y variable that if == 1, it creates a fits file at the x adress. The fits is a masterbias of the paste bias.\n",
      "    If y is diferent from 1, it returns only an array of the masterbias.\n",
      "\n"
     ]
    }
   ],
   "source": [
    "help(bias)\n"
   ]
  },
  {
   "cell_type": "code",
   "execution_count": 23,
   "metadata": {},
   "outputs": [],
   "source": [
    "# funcao flat que retorna o masterflat dos flats da pasta flat, ja reduzindo do masterbias\n",
    "def flat(d):\n",
    "    '''\n",
    "    This function recives a d variable that if == 1, it creates a fits file reduced from bias at the x adress. \n",
    "    The fits is a masterflatbias of the paste flat.\n",
    "    If d is diferent from 1, it returns only an array of the masterflatbias.\n",
    "    '''\n",
    "    #criando uma lista em que cada elemento fica como uma string do endereco de cada flat\n",
    "    b = glob.glob(x+\"/flat/*.fits\")\n",
    "    masterflat = []\n",
    "    masterflatbias = []\n",
    "    # laco for que ira jogar dentro da lista vazia masterflat os arrays de cada flat, e depois ira jogar dentro\n",
    "    for i in range(len(b)):\n",
    "        img = fits.getdata(b[i])\n",
    "        img = img.astype(np.float64)\n",
    "        masterflat.append(img)\n",
    "        masterflatbias.append((masterflat[i] - bias(1))/np.median(masterflat[i]))\n",
    "    if np.mean(np.median(masterflatbias,axis=0)) > 1.1:\n",
    "            return \"Error: The masterflat mean is too higher after normalization(the mean is higher then 1.1)\"\n",
    "    if np.mean(np.median(masterflatbias,axis=0)) < 0.9:\n",
    "            return \"Error: The masterflat mean is too lower after normalization(the mean is lower then 0.9)\"\n",
    "    if d == 1:\n",
    "        return np.median(masterflatbias,axis=0)\n",
    "    else:\n",
    "        outfile = x + '/master_flat_bias.fits'\n",
    "        hdu = fits.PrimaryHDU() #criando o HDU \n",
    "        hdu.data = np.median(masterflatbias,axis=0)\n",
    "        hdu.writeto(outfile)"
   ]
  },
  {
   "cell_type": "code",
   "execution_count": 24,
   "metadata": {},
   "outputs": [
    {
     "data": {
      "text/plain": [
       "array([[1.08630775, 0.31210575, 0.31779009, ..., 0.33572358, 1.25562973,\n",
       "        1.25602728],\n",
       "       [0.90544953, 0.22328618, 0.22743632, ..., 0.22414036, 1.1093883 ,\n",
       "        1.10972952],\n",
       "       [0.92033337, 0.25336732, 0.25413839, ..., 0.25696047, 1.19559382,\n",
       "        1.19594568],\n",
       "       ...,\n",
       "       [0.97763469, 0.26038239, 0.26106341, ..., 0.26731792, 1.17567192,\n",
       "        1.17594639],\n",
       "       [0.9544005 , 0.26088381, 0.26123909, ..., 0.27186694, 1.15585305,\n",
       "        1.15611839],\n",
       "       [0.90459092, 0.26285855, 0.26133482, ..., 0.2685868 , 1.07266922,\n",
       "        1.07291897]])"
      ]
     },
     "execution_count": 24,
     "metadata": {},
     "output_type": "execute_result"
    }
   ],
   "source": [
    "flat(1)"
   ]
  },
  {
   "cell_type": "code",
   "execution_count": 59,
   "metadata": {},
   "outputs": [],
   "source": [
    "def science():\n",
    "    c = glob.glob(x+'/science/*.fits')\n",
    "    for i in range(len(c)):\n",
    "        img = fits.getdata(c[i])\n",
    "        img = img.astype(np.float64)\n",
    "        sci_clean = (img-bias(1))/flat(1)\n",
    "        outfile = c[i][:-5] + \"_clean.fits\"\n",
    "        hdu = fits.PrimaryHDU()\n",
    "        hdu.data = sci_clean\n",
    "        hdu.writeto(outfile)"
   ]
  },
  {
   "cell_type": "code",
   "execution_count": 50,
   "metadata": {},
   "outputs": [],
   "source": [
    "def test():\n",
    "    img = fits.getdata(x+'/science/xo2b.0002.fits')\n",
    "    img = img.astype(np.float64)\n",
    "    img2 = fits.getdata(x+'./science/xo2b.0002_clean.fits')\n",
    "    img2 = img2.astype(np.float64)\n",
    "    residual = (img - img2)\n",
    "    outfile = x + '/science/xo2b.0002_residual.fits'\n",
    "    hdu = fits.PrimaryHDU()\n",
    "    hdu.data = residual\n",
    "    hdu.writeto(outfile)\n",
    "    \n",
    "    "
   ]
  },
  {
   "cell_type": "code",
   "execution_count": 51,
   "metadata": {},
   "outputs": [],
   "source": [
    "test()"
   ]
  },
  {
   "cell_type": "code",
   "execution_count": 34,
   "metadata": {},
   "outputs": [
    {
     "data": {
      "text/plain": [
       "'./trab/desktop/xo2b'"
      ]
     },
     "execution_count": 34,
     "metadata": {},
     "output_type": "execute_result"
    }
   ],
   "source": [
    "x"
   ]
  },
  {
   "cell_type": "code",
   "execution_count": null,
   "metadata": {},
   "outputs": [],
   "source": []
  }
 ],
 "metadata": {
  "kernelspec": {
   "display_name": "Python 3",
   "language": "python",
   "name": "python3"
  },
  "language_info": {
   "codemirror_mode": {
    "name": "ipython",
    "version": 3
   },
   "file_extension": ".py",
   "mimetype": "text/x-python",
   "name": "python",
   "nbconvert_exporter": "python",
   "pygments_lexer": "ipython3",
   "version": "3.6.4"
  }
 },
 "nbformat": 4,
 "nbformat_minor": 2
}
