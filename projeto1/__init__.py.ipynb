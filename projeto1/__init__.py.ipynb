{
 "cells": [
  {
   "cell_type": "code",
   "execution_count": 13,
   "metadata": {},
   "outputs": [
    {
     "name": "stdout",
     "output_type": "stream",
     "text": [
      "C:\\Users\n"
     ]
    }
   ],
   "source": []
  },
  {
   "cell_type": "code",
   "execution_count": 53,
   "metadata": {},
   "outputs": [],
   "source": [
    "\n",
    "\n",
    "\n",
    "import matplotlib.pyplot as plt\n",
    "import numpy as np\n",
    "import pandas as pd\n",
    "import glob\n",
    "import os\n",
    "from astropy.io import fits\n",
    "from astropy.utils.data import download_file\n",
    "from matplotlib.colors import LogNorm\n",
    "\n",
    "x = './trab/desktop/xo2b'\n",
    "\n",
    "def bias(y):\n",
    "    a = glob.glob(x+\"/bias/*.fits\")\n",
    "    masterbias = []\n",
    "    for i in range(len(a)):\n",
    "        img = fits.getdata(a[i])\n",
    "        img = img.astype(np.float64)\n",
    "        masterbias.append(img)\n",
    "    if y == 1:\n",
    "        return np.median(masterbias,axis=0)\n",
    "    else:\n",
    "        outfile = x + '/master_bias.fits'\n",
    "        hdu = fits.PrimaryHDU() #criando o HDU \n",
    "        hdu.data = np.median(masterbias,axis=0)\n",
    "        hdu.writeto(outfile)"
   ]
  },
  {
   "cell_type": "code",
   "execution_count": 54,
   "metadata": {},
   "outputs": [
    {
     "data": {
      "text/plain": [
       "array([[287.09567261, 288.43109131, 288.09628296, ..., 317.15054321,\n",
       "        314.9147644 , 314.9928894 ],\n",
       "       [287.79431152, 286.50576782, 286.49328613, ..., 313.07952881,\n",
       "        315.17562866, 315.28067017],\n",
       "       [286.9175415 , 286.90869141, 287.59484863, ..., 316.10891724,\n",
       "        314.44839478, 314.47311401],\n",
       "       ...,\n",
       "       [285.47119141, 286.2303772 , 286.85089111, ..., 312.75241089,\n",
       "        315.2739563 , 315.29788208],\n",
       "       [285.73690796, 286.86508179, 285.75009155, ..., 313.840271  ,\n",
       "        314.45941162, 314.47415161],\n",
       "       [285.69833374, 285.74697876, 285.37484741, ..., 313.93972778,\n",
       "        313.55096436, 313.63745117]])"
      ]
     },
     "execution_count": 54,
     "metadata": {},
     "output_type": "execute_result"
    }
   ],
   "source": [
    "bias(1)\n"
   ]
  },
  {
   "cell_type": "code",
   "execution_count": 55,
   "metadata": {},
   "outputs": [],
   "source": [
    "def flat(d):\n",
    "    b = glob.glob(x+\"/flat/*.fits\")\n",
    "    masterflat = []\n",
    "    masterflatbias = []\n",
    "    for i in range(len(b)):\n",
    "        img = fits.getdata(b[i])\n",
    "        img = img.astype(np.float64)\n",
    "        masterflat.append(img)\n",
    "        masterflatbias.append((masterflat[i] - bias(1))/np.median(masterflat[i]))\n",
    "    if d == 1:\n",
    "        return np.median(masterflatbias,axis=0)\n",
    "    else:\n",
    "        outfile = x + '/master_flat_bias.fits'\n",
    "        hdu = fits.PrimaryHDU() #criando o HDU \n",
    "        hdu.data = np.median(masterflatbias,axis=0)\n",
    "        hdu.writeto(outfile)"
   ]
  },
  {
   "cell_type": "code",
   "execution_count": 56,
   "metadata": {
    "collapsed": true
   },
   "outputs": [
    {
     "data": {
      "text/plain": [
       "array([[1.08630775, 0.31210575, 0.31779009, ..., 0.33572358, 1.25562973,\n",
       "        1.25602728],\n",
       "       [0.90544953, 0.22328618, 0.22743632, ..., 0.22414036, 1.1093883 ,\n",
       "        1.10972952],\n",
       "       [0.92033337, 0.25336732, 0.25413839, ..., 0.25696047, 1.19559382,\n",
       "        1.19594568],\n",
       "       ...,\n",
       "       [0.97763469, 0.26038239, 0.26106341, ..., 0.26731792, 1.17567192,\n",
       "        1.17594639],\n",
       "       [0.9544005 , 0.26088381, 0.26123909, ..., 0.27186694, 1.15585305,\n",
       "        1.15611839],\n",
       "       [0.90459092, 0.26285855, 0.26133482, ..., 0.2685868 , 1.07266922,\n",
       "        1.07291897]])"
      ]
     },
     "execution_count": 56,
     "metadata": {},
     "output_type": "execute_result"
    }
   ],
   "source": [
    "flat(1)"
   ]
  },
  {
   "cell_type": "code",
   "execution_count": 59,
   "metadata": {},
   "outputs": [],
   "source": [
    "def science():\n",
    "    c = glob.glob(x+'/science/*.fits')\n",
    "    for i in range(len(c)):\n",
    "        img = fits.getdata(c[i])\n",
    "        img = img.astype(np.float64)\n",
    "        sci_clean = (img-bias(1))/flat(1)\n",
    "        outfile = c[i][:-5] + \"_clean.fits\"\n",
    "        hdu = fits.PrimaryHDU()\n",
    "        hdu.data = sci_clean\n",
    "        hdu.writeto(outfile)\n",
    "        \n",
    "        "
   ]
  },
  {
   "cell_type": "code",
   "execution_count": null,
   "metadata": {},
   "outputs": [],
   "source": []
  },
  {
   "cell_type": "code",
   "execution_count": 50,
   "metadata": {},
   "outputs": [
    {
     "data": {
      "text/plain": [
       "'./trab/desktop/xo2b/science\\\\xo2b.0004.fits'"
      ]
     },
     "execution_count": 50,
     "metadata": {},
     "output_type": "execute_result"
    }
   ],
   "source": []
  },
  {
   "cell_type": "code",
   "execution_count": 51,
   "metadata": {},
   "outputs": [
    {
     "data": {
      "text/plain": [
       "'./trab/desktop/xo2b/science\\\\xo2b.0004'"
      ]
     },
     "execution_count": 51,
     "metadata": {},
     "output_type": "execute_result"
    }
   ],
   "source": []
  },
  {
   "cell_type": "code",
   "execution_count": null,
   "metadata": {},
   "outputs": [],
   "source": []
  }
 ],
 "metadata": {
  "kernelspec": {
   "display_name": "Python 3",
   "language": "python",
   "name": "python3"
  },
  "language_info": {
   "codemirror_mode": {
    "name": "ipython",
    "version": 3
   },
   "file_extension": ".py",
   "mimetype": "text/x-python",
   "name": "python",
   "nbconvert_exporter": "python",
   "pygments_lexer": "ipython3",
   "version": "3.6.4"
  }
 },
 "nbformat": 4,
 "nbformat_minor": 2
}
